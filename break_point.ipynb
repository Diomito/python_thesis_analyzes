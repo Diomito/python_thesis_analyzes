{
 "cells": [
  {
   "cell_type": "code",
   "execution_count": 2,
   "metadata": {},
   "outputs": [],
   "source": [
    "import pandas as pd\n",
    "import matplotlib.pyplot as plt\n",
    "import seaborn as sns\n",
    "import tkinter as tk\n",
    "from tkinter import filedialog\n",
    "import numpy as np\n",
    "import statistics"
   ]
  },
  {
   "cell_type": "code",
   "execution_count": 3,
   "metadata": {},
   "outputs": [],
   "source": [
    "df2 = pd.read_csv('new_data_log2.csv', sep=',')\n",
    "df3 = pd.read_csv('new_data_log03.csv', sep=',')\n",
    "df4 = pd.read_csv('new_data_log04.csv', sep=',')\n",
    "df5 = pd.read_csv('new_data_log05.csv', sep=',')\n",
    "df6 = pd.read_csv('new_data_log06.csv', sep=',')\n",
    "df8 = pd.read_csv('new_data_log08.csv', sep=',')\n",
    "df9 = pd.read_csv('new_data_log09.csv', sep=',')\n",
    "df10 = pd.read_csv('new_data_log10.csv', sep=',')\n",
    "df11 = pd.read_csv('new_data_log11.csv', sep=',')\n",
    "df12 = pd.read_csv('new_data_log12.csv', sep=',')\n",
    "df13 = pd.read_csv('new_data_log13.csv', sep=',')\n",
    "df14 = pd.read_csv('new_data_log14.csv', sep=',')\n",
    "df16 = pd.read_csv('new_data_log16.csv', sep=',')\n",
    "df17 = pd.read_csv('new_data_log17.csv', sep=',')"
   ]
  },
  {
   "cell_type": "code",
   "execution_count": 4,
   "metadata": {},
   "outputs": [
    {
     "name": "stdout",
     "output_type": "stream",
     "text": [
      "DataFrame is empty after filtering based on the given time.\n",
      "2024-01-010 days 14:09:09.572000\n"
     ]
    }
   ],
   "source": [
    "filepath = df14\n",
    "\n",
    "coordinates1 = 256.23816\n",
    "coordinates2 = 256.23914\n",
    "target_posZ_values = [coordinates1, coordinates2]\n",
    "\n",
    "posZ_data = {}\n",
    "\n",
    "time_values = []\n",
    "\n",
    "for target_posZ in target_posZ_values:\n",
    "    nearest_row = filepath.loc[filepath['posZ'] == target_posZ]\n",
    "    if not nearest_row.empty:\n",
    "        nearest_time = nearest_row.iloc[0]['Time']\n",
    "        nearest_time_formatted = '2024-01-01' + nearest_time\n",
    "        time_values.append(nearest_time_formatted)\n",
    "\n",
    "max_time = max(time_values)\n",
    "\n",
    "target_posZ_values = [coordinates1, coordinates2]\n",
    "nearest_intervals = {}\n",
    "for target_posZ in target_posZ_values:\n",
    "    nearest_interval = filepath.loc[filepath['posZ'] == target_posZ, 'Seconds'].values\n",
    "    nearest_intervals[target_posZ] = nearest_interval\n",
    "    \n",
    "for target_posZ, interval in nearest_intervals.items():\n",
    "    new = []\n",
    "    new.append(interval)\n",
    "\n",
    "given_time = max_time\n",
    "\n",
    "if not filepath.empty:\n",
    "    filepath = filepath[filepath['Time'] >= given_time]\n",
    "\n",
    "    if not filepath.empty:\n",
    "        closest_row = filepath.loc[filepath['Brake'] >= 0.10].iloc[0]\n",
    "        closest_seconds = closest_row['Seconds']\n",
    "        print(\"Seconds when Brake reaches 0.10:\", closest_seconds)\n",
    "    else:\n",
    "        print(\"DataFrame is empty after filtering based on the given time.\")\n",
    "else:\n",
    "    print(\"DataFrame is empty.\")\n",
    "print(given_time)"
   ]
  },
  {
   "cell_type": "code",
   "execution_count": 5,
   "metadata": {},
   "outputs": [
    {
     "data": {
      "text/plain": [
       "'14:09:09'"
      ]
     },
     "execution_count": 5,
     "metadata": {},
     "output_type": "execute_result"
    }
   ],
   "source": [
    "filepath = df14\n",
    "\n",
    "coordinates1 = 256.23816\n",
    "coordinates2 = 256.23914\n",
    "target_posZ_values = [coordinates1, coordinates2]\n",
    "\n",
    "posZ_data = {}\n",
    "time_values = []\n",
    "\n",
    "for target_posZ in target_posZ_values:\n",
    "    nearest_row = filepath.loc[filepath['posZ'] == target_posZ]\n",
    "    if not nearest_row.empty:\n",
    "        nearest_time = nearest_row.iloc[0]['Time']\n",
    "        nearest_timedelta = pd.to_timedelta(nearest_time)\n",
    "        nearest_datetime = pd.to_datetime('2024-01-01') + nearest_timedelta\n",
    "        nearest_time_formatted = nearest_datetime.strftime('%H:%M:%S')\n",
    "        time_values.append(nearest_time_formatted)\n",
    "\n",
    "max_time = max(time_values)\n",
    "\n",
    "target_posZ_values = [coordinates1, coordinates2]\n",
    "nearest_intervals = {}\n",
    "for target_posZ in target_posZ_values:\n",
    "    nearest_interval = filepath.loc[filepath['posZ'] == target_posZ, 'Seconds'].values\n",
    "    nearest_intervals[target_posZ] = nearest_interval\n",
    "    \n",
    "for target_posZ, interval in nearest_intervals.items():\n",
    "    new = []\n",
    "    new.append(interval)\n",
    "\n",
    "max_time\n"
   ]
  },
  {
   "cell_type": "code",
   "execution_count": 6,
   "metadata": {},
   "outputs": [
    {
     "name": "stdout",
     "output_type": "stream",
     "text": [
      "DataFrame is empty after filtering based on the given time.\n"
     ]
    }
   ],
   "source": [
    "filepath = df14\n",
    "\n",
    "coordinates1 = 256.23816\n",
    "coordinates2 = 256.23914\n",
    "target_posZ_values = [coordinates1, coordinates2]\n",
    "\n",
    "posZ_data = {}\n",
    "\n",
    "time_values = []\n",
    "\n",
    "for target_posZ in target_posZ_values:\n",
    "    nearest_row = filepath.loc[filepath['posZ'] == target_posZ]\n",
    "    if not nearest_row.empty:\n",
    "        nearest_time = nearest_row.iloc[0]['Time']\n",
    "        nearest_time_formatted = '2024-01-01' + nearest_time\n",
    "        time_values.append(nearest_time_formatted)\n",
    "\n",
    "max_time = max(time_values)\n",
    "\n",
    "target_posZ_values = [coordinates1, coordinates2]\n",
    "nearest_intervals = {}\n",
    "for target_posZ in target_posZ_values:\n",
    "    nearest_interval = filepath.loc[filepath['posZ'] == target_posZ, 'Seconds'].values\n",
    "    nearest_intervals[target_posZ] = nearest_interval\n",
    "    \n",
    "for target_posZ, interval in nearest_intervals.items():\n",
    "    new = []\n",
    "    new.append(interval)\n",
    "\n",
    "given_time = max_time\n",
    "\n",
    "if not filepath.empty:\n",
    "    filepath = filepath[filepath['Time'] >= given_time]\n",
    "\n",
    "    if not filepath.empty:\n",
    "        target_steering_angle_radians = np.radians(2)\n",
    "        closest_row = filepath.iloc[(filepath['Steering Angle'] - target_steering_angle_radians).abs().argsort()[:1]]\n",
    "        closest_steering_angle = closest_row['Steering Angle'].values[0]\n",
    "        closest_seconds = closest_row['Seconds'].values[0]\n",
    "\n",
    "        print(\"Closest Steering Angle to 2 degrees (in radians):\", closest_steering_angle)\n",
    "        print(\"Seconds when Steering Angle is closest to 2 degrees:\", closest_seconds)\n",
    "    else:\n",
    "        print(\"DataFrame is empty after filtering based on the given time.\")\n",
    "else:\n",
    "    print(\"DataFrame is empty.\")"
   ]
  },
  {
   "cell_type": "code",
   "execution_count": 7,
   "metadata": {},
   "outputs": [
    {
     "name": "stdout",
     "output_type": "stream",
     "text": [
      "[23.373 23.404 23.404 23.404 23.404 25.27  25.27  25.27  25.27  27.751]\n",
      "DataFrame is empty after filtering based on the given time.\n",
      "Overall Maximum Value: 34.906\n",
      "Overall Minimum Value: 23.373\n"
     ]
    }
   ],
   "source": [
    "filepath = df2\n",
    "\n",
    "coordinates1 = 256.23816\n",
    "coordinates2 = 256.23914\n",
    "target_posZ_values = [coordinates1, coordinates2]\n",
    "\n",
    "posZ_data = {}\n",
    "\n",
    "time_values = []\n",
    "\n",
    "for target_posZ in target_posZ_values:\n",
    "    nearest_row = filepath.loc[filepath['posZ'] == target_posZ]\n",
    "    if not nearest_row.empty:\n",
    "        nearest_time = nearest_row.iloc[0]['Time']\n",
    "        nearest_time_formatted = '2024-01-01' + nearest_time\n",
    "        time_values.append(nearest_time_formatted)\n",
    "\n",
    "max_time = max(time_values)\n",
    "\n",
    "target_posZ_values = [coordinates1, coordinates2]\n",
    "nearest_intervals = {}\n",
    "for target_posZ in target_posZ_values:\n",
    "    nearest_interval = filepath.loc[filepath['posZ'] == target_posZ, 'Seconds'].values\n",
    "    nearest_intervals[target_posZ] = nearest_interval\n",
    "    \n",
    "for target_posZ, interval in nearest_intervals.items():\n",
    "    new = []\n",
    "    new.append(interval)\n",
    "print(interval)\n",
    "\n",
    "given_time = max_time\n",
    "\n",
    "if not filepath.empty:\n",
    "    filepath = filepath[filepath['Time'] >= given_time]\n",
    "\n",
    "    if not filepath.empty:\n",
    "        relevant_rows = filepath[filepath['Steering Angle'] >= np.radians(2)]\n",
    "        if not relevant_rows.empty:\n",
    "            earliest_row = relevant_rows.sort_values(by='Time').iloc[0]\n",
    "            closest_steering_angle = earliest_row['Steering Angle']\n",
    "            closest_seconds = earliest_row['Seconds']\n",
    "            print(\"Closest Steering Angle to 2 radians or more:\", closest_steering_angle)\n",
    "            print(\"Seconds when Steering Angle is closest to 2 radians or more:\", closest_seconds)\n",
    "        else:\n",
    "            print(\"No steering angle equal to or greater than 2 radians found after the given time.\")\n",
    "    else:\n",
    "        print(\"DataFrame is empty after filtering based on the given time.\")\n",
    "else:\n",
    "    print(\"DataFrame is empty.\")\n",
    "\n",
    "all_intervals = np.concatenate(list(nearest_intervals.values()))\n",
    "\n",
    "overall_max = np.max(all_intervals)\n",
    "overall_min = np.min(all_intervals)\n",
    "\n",
    "print(\"Overall Maximum Value:\", overall_max)\n",
    "print(\"Overall Minimum Value:\", overall_min)"
   ]
  }
 ],
 "metadata": {
  "kernelspec": {
   "display_name": "Python 3",
   "language": "python",
   "name": "python3"
  },
  "language_info": {
   "codemirror_mode": {
    "name": "ipython",
    "version": 3
   },
   "file_extension": ".py",
   "mimetype": "text/x-python",
   "name": "python",
   "nbconvert_exporter": "python",
   "pygments_lexer": "ipython3",
   "version": "3.11.0"
  }
 },
 "nbformat": 4,
 "nbformat_minor": 2
}
