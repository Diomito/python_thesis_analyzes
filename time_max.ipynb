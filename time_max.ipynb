{
 "cells": [
  {
   "cell_type": "code",
   "execution_count": 1,
   "metadata": {},
   "outputs": [],
   "source": [
    "import pandas as pd\n",
    "import matplotlib.pyplot as plt\n",
    "import seaborn as sns\n",
    "import tkinter as tk\n",
    "from tkinter import filedialog\n",
    "import numpy as np\n",
    "import statistics"
   ]
  },
  {
   "cell_type": "code",
   "execution_count": 2,
   "metadata": {},
   "outputs": [],
   "source": [
    "df2 = pd.read_csv('new_data_log2.csv', sep=',')\n",
    "df3 = pd.read_csv('new_data_log03.csv', sep=',')\n",
    "df4 = pd.read_csv('new_data_log04.csv', sep=',')\n",
    "df5 = pd.read_csv('new_data_log05.csv', sep=',')\n",
    "df6 = pd.read_csv('new_data_log06.csv', sep=',')\n",
    "df8 = pd.read_csv('new_data_log08.csv', sep=',')\n",
    "df9 = pd.read_csv('new_data_log09.csv', sep=',')\n",
    "df10 = pd.read_csv('new_data_log10.csv', sep=',')\n",
    "df11 = pd.read_csv('new_data_log11.csv', sep=',')\n",
    "df12 = pd.read_csv('new_data_log12.csv', sep=',')\n",
    "df13 = pd.read_csv('new_data_log13.csv', sep=',')\n",
    "df14 = pd.read_csv('new_data_log14.csv', sep=',')\n",
    "df16 = pd.read_csv('new_data_log16.csv', sep=',')\n",
    "df17 = pd.read_csv('new_data_log17.csv', sep=',')"
   ]
  },
  {
   "cell_type": "code",
   "execution_count": 4,
   "metadata": {},
   "outputs": [
    {
     "name": "stdout",
     "output_type": "stream",
     "text": [
      "Total time saved to 'results.csv'\n"
     ]
    }
   ],
   "source": [
    "total_times = []\n",
    "\n",
    "for i in range(2, 18):\n",
    "    if i == 7 or i == 15:\n",
    "        continue\n",
    "    df_name = globals()[f\"df{i}\"]\n",
    "    total_time_minutes = df_name['Seconds'].max() / 60\n",
    "    \n",
    "    total_times.append(total_time_minutes)\n",
    "\n",
    "# Create a DataFrame from the list\n",
    "result_df = pd.DataFrame({'Total Time': total_times})\n",
    "\n",
    "# Specify the output file path for the result CSV file\n",
    "output_file_path = \"results.csv\"\n",
    "\n",
    "# Save the DataFrame to a CSV file\n",
    "result_df.to_csv(output_file_path, index=False)\n",
    "\n",
    "print(f\"Total time saved to '{output_file_path}'\")"
   ]
  }
 ],
 "metadata": {
  "kernelspec": {
   "display_name": "Python 3",
   "language": "python",
   "name": "python3"
  },
  "language_info": {
   "codemirror_mode": {
    "name": "ipython",
    "version": 3
   },
   "file_extension": ".py",
   "mimetype": "text/x-python",
   "name": "python",
   "nbconvert_exporter": "python",
   "pygments_lexer": "ipython3",
   "version": "3.11.0"
  }
 },
 "nbformat": 4,
 "nbformat_minor": 2
}
